{
 "cells": [
  {
   "attachments": {},
   "cell_type": "markdown",
   "metadata": {},
   "source": [
    "# Big data with Dask\n",
    "\n",
    "The following code is part of the youtube videos below,\n",
    "\n",
    "1. [Download building footprint dataset from Google](https://youtu.be/R0ElIJS4C70?si=P5DI7Rz67EtKrMqd)\n",
    "2. [Working with big data in panadas](https://youtu.be/7kBL83my5I0?si=ta1k0KT-no-Pzfi5)"
   ]
  },
  {
   "cell_type": "code",
   "execution_count": null,
   "metadata": {},
   "outputs": [],
   "source": [
    "import pandas as pd \n",
    "import numpy as np \n",
    "import geopandas as gpd "
   ]
  },
  {
   "cell_type": "markdown",
   "metadata": {},
   "source": [
    "## Dataset\n",
    "There are two input dataset;\n",
    "1. 20 GB csv file\n",
    "This is the dataset downloaded from [Google's open buildings](https://sites.research.google/open-buildings/#download).\n",
    "2. AOI shapefile\n",
    "AOI shapefile is the created on [geojson.io](https://geojson.io) website. It is the small area near Kathmandu."
   ]
  },
  {
   "cell_type": "code",
   "execution_count": null,
   "metadata": {},
   "outputs": [],
   "source": [
    "df = pd.read_csv(r\"C:\\Users\\tek.kshetri\\Downloads\\30f_buildings.csv\\30f_buildings.csv\")\n",
    "df.head()"
   ]
  },
  {
   "cell_type": "code",
   "execution_count": null,
   "metadata": {},
   "outputs": [],
   "source": [
    "df['geometry'] = gpd.GeoSeries.from_wkt(df['geometry'])\n",
    "gdf = gpd.GeoDataFrame(df, geometry='geometry')\n",
    "gdf.head()"
   ]
  },
  {
   "cell_type": "code",
   "execution_count": null,
   "metadata": {},
   "outputs": [],
   "source": [
    "gdf.to_file(r\"C:\\Users\\tek.kshetri\\Downloads\\687_buildings.shp\")"
   ]
  },
  {
   "cell_type": "code",
   "execution_count": null,
   "metadata": {},
   "outputs": [],
   "source": [
    "import dask.dataframe as dd\n",
    "\n",
    "ddf = dd.read_csv(r\"C:\\Users\\tek.kshetri\\Downloads\\39f_buildings.csv\\39f_buildings.csv\")\n",
    "ddf.head()"
   ]
  },
  {
   "cell_type": "code",
   "execution_count": null,
   "metadata": {},
   "outputs": [],
   "source": [
    "import dask_geopandas\n",
    "# ddf['geometry'] = ddf.set_geometry(dask_geopandas.from_wkt(ddf['geometry']))"
   ]
  },
  {
   "cell_type": "code",
   "execution_count": null,
   "metadata": {},
   "outputs": [],
   "source": [
    "# add ddf to the geopandas dataframe using dask geopandas \n",
    "gddf = dask_geopandas.from_dask_dataframe(ddf, \n",
    "                                          geometry=ddf['geometry']\n",
    "                                          .map_partitions(gpd.GeoSeries\n",
    "                                                          .from_wkt, meta=gpd.GeoSeries([])))\n",
    "\n",
    "gddf = gddf.reset_index()"
   ]
  },
  {
   "cell_type": "code",
   "execution_count": null,
   "metadata": {},
   "outputs": [],
   "source": [
    "gddf.crs = 'epsg:4326'"
   ]
  },
  {
   "cell_type": "code",
   "execution_count": null,
   "metadata": {},
   "outputs": [],
   "source": [
    "aoi = gpd.read_file(r\"C:\\Users\\tek.kshetri\\Downloads\\download\\layers\\POLYGON.shp\")\n",
    "aoi.head()"
   ]
  },
  {
   "cell_type": "code",
   "execution_count": null,
   "metadata": {},
   "outputs": [],
   "source": [
    "aoi.crs = 'epsg:4326'"
   ]
  },
  {
   "cell_type": "code",
   "execution_count": null,
   "metadata": {},
   "outputs": [],
   "source": [
    "gddf = gddf.to_crs(aoi.crs)"
   ]
  },
  {
   "cell_type": "code",
   "execution_count": null,
   "metadata": {},
   "outputs": [],
   "source": [
    "## clip the buildings to the aoi\n",
    "clipped = dask_geopandas.clip(gddf, aoi)"
   ]
  },
  {
   "cell_type": "code",
   "execution_count": null,
   "metadata": {},
   "outputs": [],
   "source": [
    "clipped.head()"
   ]
  },
  {
   "cell_type": "code",
   "execution_count": null,
   "metadata": {},
   "outputs": [],
   "source": [
    "clipped.to_file(r\"C:\\Users\\tek.kshetri\\Downloads\\test_buildings.shp\")"
   ]
  },
  {
   "cell_type": "code",
   "execution_count": null,
   "metadata": {},
   "outputs": [],
   "source": [
    "clipped = clipped.compute()\n",
    "clipped.to_file(r\"C:\\Users\\tek.kshetri\\Downloads\\test_buildings.shp\")"
   ]
  },
  {
   "cell_type": "code",
   "execution_count": null,
   "metadata": {},
   "outputs": [],
   "source": []
  }
 ],
 "metadata": {
  "kernelspec": {
   "display_name": "gdal",
   "language": "python",
   "name": "python3"
  },
  "language_info": {
   "codemirror_mode": {
    "name": "ipython",
    "version": 3
   },
   "file_extension": ".py",
   "mimetype": "text/x-python",
   "name": "python",
   "nbconvert_exporter": "python",
   "pygments_lexer": "ipython3",
   "version": "3.9.15"
  },
  "orig_nbformat": 4
 },
 "nbformat": 4,
 "nbformat_minor": 2
}
